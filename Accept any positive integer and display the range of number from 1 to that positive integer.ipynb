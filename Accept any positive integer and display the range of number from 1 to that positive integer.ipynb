{
 "cells": [
  {
   "cell_type": "markdown",
   "id": "71f9576e-65c8-44f2-ba5f-097f1e5e96c6",
   "metadata": {},
   "source": [
    "**Write a python program that will accept any positive integer and display the range of number from 1 to that positive integer**"
   ]
  },
  {
   "cell_type": "code",
   "execution_count": 1,
   "id": "8de2d180-b941-4e75-bea6-8d0e9bb6a65c",
   "metadata": {},
   "outputs": [
    {
     "name": "stdin",
     "output_type": "stream",
     "text": [
      "Enter the value: 30\n"
     ]
    }
   ],
   "source": [
    "#Accepting input from the users\n",
    "n=float(input(\"Enter the value:\"))"
   ]
  },
  {
   "cell_type": "code",
   "execution_count": 2,
   "id": "beb52c79-bbe8-4dc9-aded-1b741da64c87",
   "metadata": {},
   "outputs": [
    {
     "name": "stdout",
     "output_type": "stream",
     "text": [
      "Input the number within the range of 30.0\n",
      "\t 1\n",
      "\t 2\n",
      "\t 3\n",
      "\t 4\n",
      "\t 5\n",
      "\t 6\n",
      "\t 7\n",
      "\t 8\n",
      "\t 9\n",
      "\t 10\n",
      "\t 11\n",
      "\t 12\n",
      "\t 13\n",
      "\t 14\n",
      "\t 15\n",
      "\t 16\n",
      "\t 17\n",
      "\t 18\n",
      "\t 19\n",
      "\t 20\n",
      "\t 21\n",
      "\t 22\n",
      "\t 23\n",
      "\t 24\n",
      "\t 25\n",
      "\t 26\n",
      "\t 27\n",
      "\t 28\n",
      "\t 29\n",
      "\t 30\n",
      "The program is over\n"
     ]
    }
   ],
   "source": [
    "#logic used \n",
    "if(n<=0):\n",
    "    print('The input value is invalid')\n",
    "else:\n",
    "    if(n>0):\n",
    "        print(\"Input the number within the range of {}\".format(n))\n",
    "        i=1\n",
    "        while(n>=i):\n",
    "            print(\"\\t {}\".format(i))\n",
    "            i=i+1\n",
    "print(\"The program is over\")"
   ]
  },
  {
   "cell_type": "code",
   "execution_count": null,
   "id": "ffe7cdfa-f95a-4456-869f-afcca61d476c",
   "metadata": {},
   "outputs": [],
   "source": []
  },
  {
   "cell_type": "code",
   "execution_count": null,
   "id": "a9049663-2275-4b53-a8c7-4ec1ea87085c",
   "metadata": {},
   "outputs": [],
   "source": []
  },
  {
   "cell_type": "code",
   "execution_count": null,
   "id": "b6cf3279-47db-4009-a4df-b9dfe510ba2f",
   "metadata": {},
   "outputs": [],
   "source": []
  },
  {
   "cell_type": "code",
   "execution_count": null,
   "id": "bf923072-f07c-43c8-ba44-99f185008517",
   "metadata": {},
   "outputs": [],
   "source": []
  },
  {
   "cell_type": "code",
   "execution_count": null,
   "id": "32e520d2-9b56-41bc-8b85-eff3b920e50f",
   "metadata": {},
   "outputs": [],
   "source": []
  },
  {
   "cell_type": "code",
   "execution_count": null,
   "id": "95227763-c2b2-4ac5-a4f0-fabdf6e2f257",
   "metadata": {},
   "outputs": [],
   "source": []
  },
  {
   "cell_type": "code",
   "execution_count": null,
   "id": "238858ee-8d50-43a4-939e-59333ce41ee3",
   "metadata": {},
   "outputs": [],
   "source": []
  },
  {
   "cell_type": "code",
   "execution_count": null,
   "id": "21ddc9b5-45de-466a-ad9f-2ced8539c962",
   "metadata": {},
   "outputs": [],
   "source": []
  }
 ],
 "metadata": {
  "kernelspec": {
   "display_name": "Python 3 (ipykernel)",
   "language": "python",
   "name": "python3"
  },
  "language_info": {
   "codemirror_mode": {
    "name": "ipython",
    "version": 3
   },
   "file_extension": ".py",
   "mimetype": "text/x-python",
   "name": "python",
   "nbconvert_exporter": "python",
   "pygments_lexer": "ipython3",
   "version": "3.12.7"
  }
 },
 "nbformat": 4,
 "nbformat_minor": 5
}
